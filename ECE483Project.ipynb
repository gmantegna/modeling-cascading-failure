{
 "cells": [
  {
   "cell_type": "code",
   "execution_count": 54,
   "id": "c80e67ae",
   "metadata": {},
   "outputs": [],
   "source": [
    "import numpy as np\n",
    "from scipy import integrate\n"
   ]
  },
  {
   "cell_type": "code",
   "execution_count": 88,
   "id": "37253537",
   "metadata": {},
   "outputs": [
    {
     "name": "stdout",
     "output_type": "stream",
     "text": [
      "(4,)\n"
     ]
    }
   ],
   "source": [
    "X_t_test = np.array([[0,0,0.321,0]]).T\n",
    "X = X_t_test.flatten()\n",
    "print(X.shape)"
   ]
  },
  {
   "cell_type": "code",
   "execution_count": 112,
   "id": "32400359",
   "metadata": {},
   "outputs": [],
   "source": [
    "def swing_equation_ODE(X_t,t,K,P,I,gamma):\n",
    "    \"\"\"\n",
    "    >The function takes as input:\n",
    "    \n",
    "    X_t: np.array of dimension 2Nx1, giving thetas and omegas at time t, it is of the form (theta_0,omega0,...,theta_N,omega_N)\n",
    "    t: the time at which the integraion starts\n",
    "    K: np.array of dimension NxN, representing the coupling strength between nodes\n",
    "    P: np.array of dimension Nx1, giving the power at the nodes of the system\n",
    "    I: np.array of dimension Nx1, giving the inertia constants at the nodes of the system\n",
    "    gamma: np.array of dimension Nx1, giving the damping coefficients at the nodes of the system\n",
    "    delta_t: float, representing timestep at which to advance the simulation\n",
    "\n",
    "    >The function returns the expression of the swing equation ODE\n",
    "    \"\"\"\n",
    "    K,P,I,gamma = get_parameters()\n",
    "    N = len(P)\n",
    "    dX_dt = np.zeros(2*N)\n",
    "    for i in range(2*N):\n",
    "        if i % 2 == 0:\n",
    "            dX_dt[i] = X_t[i+1]\n",
    "        else:\n",
    "            dX_dt[i] = (1/I[i//2])*(P[i//2] - gamma[i//2]*X_t[i] + sum([K[i//2][j]*np.sin(X_t[2*j]-X_t[i-1]) for j in range(N)]))\n",
    "    return dX_dt\n",
    "\n",
    "def simulate_time_step(X_t,K,P,I,gamma,delta_t):\n",
    "    \"\"\"\n",
    "    >The function takes as input:\n",
    "    \n",
    "    X_t: np.array of dimension 2Nx1 giving thetas and omegas at time t, it is of the form (theta_0,omega0,...,theta_N,omega_N)\n",
    "    K: np.array of dimension NxN representing the coupling strength between nodes\n",
    "    P: np.array of dimension Nx1 giving the power at the nodes of the system\n",
    "    I: np.array of dimension Nx1 giving the inertia constants at the nodes of the system\n",
    "    gamma: np.array of dimension Nx1 giving the damping coefficients at the nodes of the system\n",
    "    \n",
    "    >The function returns:\n",
    "    X_t_plus_1 : np.array of dimension 2N+1 giving thetas and omegas at time t+1\n",
    "    \"\"\"\n",
    "    # Obtaining the expression of the swing equation ODE\n",
    "    X_t_plus_1 = integrate.odeint(swing_equation_ODE, X_t.flatten(), [0,delta_t],(K,P,I,gamma),full_output=True)[0]\n",
    "    return X_t_plus_1\n",
    "\n",
    "\n",
    "#Test case inputs\n",
    "X_t_test = np.array([[0,0,0.321,0]]).T\n",
    "K_test =  np.array([[-5,5],[5,-5]])\n",
    "P_test = np.array([[1,1.5]]).T\n",
    "I_test = np.array([[1,1]]).T\n",
    "gamma_test = np.array([[1,1]]).T\n",
    "delta_t_test = 0.1\n",
    "def test_case_benchmark():\n",
    "    \"\"\" The function returns a benchmark value to asses the simulate_time_step function based on the bus system\n",
    "    in question 2 of ECE483 homework 2 \"\"\"\n",
    "    benchmark = X_t_plus_1 = simulate_time_step(X_t_test,K_test,P_test,I_test,gamma_test,delta_t_test)[0]\n",
    "    return benchmark\n",
    "def test_simulate_time_step():\n",
    "    \"\"\"\n",
    "    We run the current version of the code with the inputs corresponding to the bus-system in question 2 of homework 2\n",
    "    and assert the value using this example.\n",
    "    \"\"\"\n",
    "    benchmark = test_case_benchmark()\n",
    "    assert simulate_time_step(X_t_test,K_test,P_test,I_test,gamma_test,delta_t_test)[0].any() == benchmark.any()\n",
    "    "
   ]
  },
  {
   "cell_type": "code",
   "execution_count": 113,
   "id": "6ea06660",
   "metadata": {},
   "outputs": [
    {
     "data": {
      "text/plain": [
       "array([0.   , 0.   , 0.321, 0.   ])"
      ]
     },
     "execution_count": 113,
     "metadata": {},
     "output_type": "execute_result"
    }
   ],
   "source": [
    "test_case_benchmark()\n",
    "# The simulation doesn't change anything as we expect from a static system ! "
   ]
  },
  {
   "cell_type": "code",
   "execution_count": 114,
   "id": "e091d08b",
   "metadata": {},
   "outputs": [],
   "source": [
    "test_simulate_time_step()"
   ]
  },
  {
   "cell_type": "code",
   "execution_count": null,
   "id": "8430911c",
   "metadata": {},
   "outputs": [],
   "source": []
  },
  {
   "cell_type": "code",
   "execution_count": null,
   "id": "5a50aa3d",
   "metadata": {},
   "outputs": [],
   "source": []
  }
 ],
 "metadata": {
  "kernelspec": {
   "display_name": "Python 3 (ipykernel)",
   "language": "python",
   "name": "python3"
  },
  "language_info": {
   "codemirror_mode": {
    "name": "ipython",
    "version": 3
   },
   "file_extension": ".py",
   "mimetype": "text/x-python",
   "name": "python",
   "nbconvert_exporter": "python",
   "pygments_lexer": "ipython3",
   "version": "3.9.7"
  }
 },
 "nbformat": 4,
 "nbformat_minor": 5
}
